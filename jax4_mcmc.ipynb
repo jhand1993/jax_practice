{
 "cells": [
  {
   "cell_type": "markdown",
   "id": "9491bb97-caf2-48b5-8665-57084ae47ae6",
   "metadata": {},
   "source": [
    "# MCMC Sampler with JAX \n",
    "We are going to build an MCMC samplers using JAX."
   ]
  },
  {
   "cell_type": "code",
   "execution_count": null,
   "id": "6418f4d6-814e-4f15-8615-bbfdcd058868",
   "metadata": {},
   "outputs": [],
   "source": [
    "import jax\n",
    "import jax.numpy as jnp\n",
    "import jax.scipy as jsp\n",
    "\n",
    "import matplotlib.pyplot as plt"
   ]
  }
 ],
 "metadata": {
  "kernelspec": {
   "display_name": "Python 3 (ipykernel)",
   "language": "python",
   "name": "python3"
  },
  "language_info": {
   "codemirror_mode": {
    "name": "ipython",
    "version": 3
   },
   "file_extension": ".py",
   "mimetype": "text/x-python",
   "name": "python",
   "nbconvert_exporter": "python",
   "pygments_lexer": "ipython3",
   "version": "3.9.16"
  }
 },
 "nbformat": 4,
 "nbformat_minor": 5
}
